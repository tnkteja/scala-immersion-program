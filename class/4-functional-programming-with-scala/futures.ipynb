{
 "cells": [
  {
   "cell_type": "code",
   "execution_count": 2,
   "metadata": {
    "collapsed": false
   },
   "outputs": [
    {
     "data": {
      "text/plain": [
       "\u001b[32mimport \u001b[36mscala.concurrent._\u001b[0m"
      ]
     },
     "metadata": {},
     "output_type": "display_data"
    }
   ],
   "source": [
    "import scala.concurrent._"
   ]
  },
  {
   "cell_type": "code",
   "execution_count": 3,
   "metadata": {
    "collapsed": false
   },
   "outputs": [
    {
     "data": {
      "text/plain": [
       "\u001b[32mimport \u001b[36mscala.concurrent.ExecutionContext.Implicits.global\u001b[0m"
      ]
     },
     "metadata": {},
     "output_type": "display_data"
    }
   ],
   "source": [
    "import scala.concurrent.ExecutionContext.Implicits.global"
   ]
  },
  {
   "cell_type": "code",
   "execution_count": 4,
   "metadata": {
    "collapsed": false
   },
   "outputs": [
    {
     "data": {
      "text/plain": [
       "\u001b[36mx\u001b[0m: \u001b[32mFuture\u001b[0m[\u001b[32mLong\u001b[0m] = scala.concurrent.impl.Promise$DefaultPromise@af32c75"
      ]
     },
     "metadata": {},
     "output_type": "display_data"
    }
   ],
   "source": [
    "val x = Future { Thread.sleep(10000)\n",
    "                  Thread.currentThread.getId()}"
   ]
  },
  {
   "cell_type": "code",
   "execution_count": 5,
   "metadata": {
    "collapsed": false
   },
   "outputs": [
    {
     "data": {
      "text/plain": [
       "\u001b[36mres4\u001b[0m: \u001b[32mOption\u001b[0m[\u001b[32mscala\u001b[0m.\u001b[32mutil\u001b[0m.\u001b[32mTry\u001b[0m[\u001b[32mLong\u001b[0m]] = \u001b[33mSome\u001b[0m(\u001b[33mSuccess\u001b[0m(\u001b[32m57L\u001b[0m))"
      ]
     },
     "metadata": {},
     "output_type": "display_data"
    }
   ],
   "source": [
    "x.value"
   ]
  },
  {
   "cell_type": "code",
   "execution_count": 6,
   "metadata": {
    "collapsed": false
   },
   "outputs": [
    {
     "data": {
      "text/plain": [
       "\u001b[32mimport \u001b[36mscala.util.{Success,Failure}\u001b[0m\n",
       "\u001b[36mx\u001b[0m: \u001b[32mFuture\u001b[0m[\u001b[32mLong\u001b[0m] = scala.concurrent.impl.Promise$DefaultPromise@28ebb917"
      ]
     },
     "metadata": {},
     "output_type": "display_data"
    }
   ],
   "source": [
    "import scala.util.{Success,Failure}\n",
    "\n",
    "val x = Future { Thread.sleep(10000)\n",
    "                  Thread.currentThread.getId()}\n",
    "\n",
    "x onComplete {\n",
    "  case Success(res) => println(res)\n",
    "  case Failure(ex) => println(ex)\n",
    "}"
   ]
  },
  {
   "cell_type": "markdown",
   "metadata": {},
   "source": [
    "# Run the Below code on Bash or Command Line or REPL"
   ]
  },
  {
   "cell_type": "code",
   "execution_count": 8,
   "metadata": {
    "collapsed": false
   },
   "outputs": [
    {
     "name": "stdout",
     "output_type": "stream",
     "text": [
      "Caller Thread: 79\n",
      "Caller Thread: 79\n"
     ]
    },
    {
     "data": {
      "text/plain": [
       "\u001b[32mimport \u001b[36mscala.concurrent._\u001b[0m\n",
       "\u001b[32mimport \u001b[36mscala.concurrent.ExecutionContext.Implicits.global\u001b[0m\n",
       "\u001b[32mimport \u001b[36mscala.util.{Success,Failure}\u001b[0m\n",
       "\u001b[36mx\u001b[0m: \u001b[32mFuture\u001b[0m[\u001b[32mLong\u001b[0m] = scala.concurrent.impl.Promise$DefaultPromise@58a2bc2a"
      ]
     },
     "metadata": {},
     "output_type": "display_data"
    }
   ],
   "source": [
    "import scala.concurrent._\n",
    "import scala.concurrent.ExecutionContext.Implicits.global\n",
    "import scala.util.{Success,Failure}\n",
    "\n",
    "println(\"Caller Thread: \"+Thread.currentThread.getId())\n",
    "val x = Future { Thread.sleep(10000)\n",
    "                  Thread.currentThread.getId()}\n",
    "\n",
    "x onComplete {\n",
    "  case Success(res) => {\n",
    "    println(\"Success call back on thread: \"+Thread.currentThread.getId())\n",
    "    println(res)\n",
    "  }\n",
    "  case Failure(ex) => println(ex)\n",
    "}\n",
    "\n",
    "println(\"Caller Thread: \"+Thread.currentThread.getId())"
   ]
  },
  {
   "cell_type": "code",
   "execution_count": null,
   "metadata": {
    "collapsed": true
   },
   "outputs": [],
   "source": []
  }
 ],
 "metadata": {
  "kernelspec": {
   "display_name": "Scala 2.11",
   "language": "scala211",
   "name": "scala211"
  },
  "language_info": {
   "codemirror_mode": "text/x-scala",
   "file_extension": ".scala",
   "mimetype": "text/x-scala",
   "name": "scala211",
   "pygments_lexer": "scala",
   "version": "2.11.7"
  }
 },
 "nbformat": 4,
 "nbformat_minor": 1
}
